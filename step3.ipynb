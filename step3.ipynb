{
 "cells": [
  {
   "cell_type": "code",
   "execution_count": 40,
   "metadata": {},
   "outputs": [],
   "source": [
    "#file di psp contenente i 'fosfopeptidi'\n",
    "db=[]\n",
    "f= open('Phosphorylation_site_dataset')\n",
    "for line in f:\n",
    "    temp=line.split('\\t')\n",
    "    if len(temp)>2:\n",
    "        #seleziono le colonne che mi interessano\n",
    "        db.append([temp[2],temp[4], temp[6], temp[9]])\n",
    "f.close()"
   ]
  },
  {
   "cell_type": "code",
   "execution_count": 41,
   "metadata": {},
   "outputs": [],
   "source": [
    "def phosphosite_peptide_seqs(name):\n",
    "    #seleziono organismi\n",
    "    list_org=[]\n",
    "    for line in db:\n",
    "        if line[2]=='{}'.format(name):\n",
    "            list_org.append(line)\n",
    "#creo file fasta delle sequenze dei fosfositi\n",
    "    with open('phosphosite_peptide_seqs/{}.fasta'.format(name),'a') as f:\n",
    "        for line in list_org:\n",
    "            header='>'+'|'.join(line[:-1])\n",
    "            seq=''.join(line[-1])\n",
    "            f.write(header)\n",
    "            f.write('\\n')\n",
    "            f.write(seq)\n",
    "            f.write('\\n')"
   ]
  },
  {
   "cell_type": "code",
   "execution_count": 43,
   "metadata": {},
   "outputs": [],
   "source": [
    "lista_org=['cat','chicken','cow','dog','frog','hamster','mouse','pig','ratt','SARSCoV2']\n",
    "for org in lista_org:\n",
    "    phosphosite_peptide_seqs(org)"
   ]
  },
  {
   "cell_type": "code",
   "execution_count": null,
   "metadata": {},
   "outputs": [],
   "source": []
  }
 ],
 "metadata": {
  "kernelspec": {
   "display_name": "Python 3",
   "language": "python",
   "name": "python3"
  },
  "language_info": {
   "codemirror_mode": {
    "name": "ipython",
    "version": 3
   },
   "file_extension": ".py",
   "mimetype": "text/x-python",
   "name": "python",
   "nbconvert_exporter": "python",
   "pygments_lexer": "ipython3",
   "version": "3.10.6 (main, Nov 14 2022, 16:10:14) [GCC 11.3.0]"
  },
  "orig_nbformat": 4,
  "vscode": {
   "interpreter": {
    "hash": "916dbcbb3f70747c44a77c7bcd40155683ae19c65e1c03b4aa3499c5328201f1"
   }
  }
 },
 "nbformat": 4,
 "nbformat_minor": 2
}
